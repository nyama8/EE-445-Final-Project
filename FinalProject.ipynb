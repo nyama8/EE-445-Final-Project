{
 "cells": [
  {
   "cell_type": "markdown",
   "metadata": {},
   "source": [
    "# EE 445 Final Project: Modeling effectiveness of government response\n",
    "Nicholas Yama, Spring 2020"
   ]
  },
  {
   "cell_type": "markdown",
   "metadata": {},
   "source": [
    "## Project goal\n",
    "\n",
    "At the time of writing (07 May 2020) the United States is beginning to see the number of cases slowing, resulting in increase in desire by a vocal minority to return to normal operations. This would involve the uplifing of wide-scale quarantine and stay-at-home orders that, the evidence indicates has done significant good in slowing the spread of infections. Many arguments are being levied against the effectiveness of these restrictions which are often of dubious scientific merit.\n",
    "\n",
    "The effectiveness of the government response has varied between states in curbing the number of cases and, due to the lack of national policy from the federal government, will likey be exacerbated as individual states begin to relax these measures. The goal of this project is to model the effectiveness of the government's response at a state level in terms of initial growth rates of the infection."
   ]
  },
  {
   "cell_type": "markdown",
   "metadata": {},
   "source": [
    "### Parameters\n",
    "\n",
    "The number of infected individuals $N$ in its early stages generally can be modeled by an exponential curve\n",
    "\n",
    "$$N=\\exp(r(t-t_0))$$\n",
    "\n",
    "where $r$ is the growth rate, $t$ is the time, and $t_0$ is the time until the first infection. The growth rate $r$ can then be determined by a linear regression on $\\ln(N) = r(t - t_0)$.\n",
    "\n",
    "This growth rate $r$ will be predicted using a linear regression-type network for the first 6 weeks starting March 1st (a day later the US would reach the first confirmed 100 cases).\n",
    "\n",
    "The parameters of interest include:\n",
    "1. The testing rate integrated weekly (so the number of tests administered from March 1 to a given week) normalized by the population (# tests adminstered/population, for 6 weeks).\n",
    "2. Time from March 1 to declare a \"state of emergency\"\n",
    "3. Time from March 1 to close schools and universities\n",
    "4. Time from March 1 to institute a stay-at-home/quarantine order at a state level.\n",
    "5. Govenor political affiliation (-1 = republican, 1 = democrat).\n",
    "6. Population density (control parameter).\n",
    "\n",
    "When parameters associated with time of response were not achieved within the time frame provided (eg. schools were not closed within the 6 weeks) a value of 50 is assigned.\n",
    "\n",
    "Each data point will represent an individual state. Only the 50 states and the District of Columbia will be considered, territories of the US such as American Samoa and Puerto Rico will not be used."
   ]
  },
  {
   "cell_type": "code",
   "execution_count": null,
   "metadata": {},
   "outputs": [],
   "source": []
  }
 ],
 "metadata": {
  "kernelspec": {
   "display_name": "Python 3",
   "language": "python",
   "name": "python3"
  },
  "language_info": {
   "codemirror_mode": {
    "name": "ipython",
    "version": 3
   },
   "file_extension": ".py",
   "mimetype": "text/x-python",
   "name": "python",
   "nbconvert_exporter": "python",
   "pygments_lexer": "ipython3",
   "version": "3.7.4"
  }
 },
 "nbformat": 4,
 "nbformat_minor": 2
}
