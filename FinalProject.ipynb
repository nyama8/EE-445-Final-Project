{
 "cells": [
  {
   "cell_type": "markdown",
   "metadata": {},
   "source": [
    "# EE 445 Final Project: Modeling effectiveness of government response\n",
    "Nicholas Yama, Spring 2020"
   ]
  },
  {
   "cell_type": "markdown",
   "metadata": {},
   "source": [
    "## Project goal\n",
    "\n",
    "At the time of writing (07 May 2020) the United States is beginning to see the number of cases slowing, resulting in increase in desire by a vocal minority to return to normal operations. This would involve the uplifing of wide-scale quarantine and stay-at-home orders that, the evidence indicates has done significant good in slowing the spread of infections. Many arguments are being levied against the effectiveness of these restrictions which are often of dubious scientific merit.\n",
    "\n",
    "The effectiveness of the government response has varied between states in curbing the number of cases and, due to the lack of national policy from the federal government, will likey be exacerbated as individual states begin to relax these measures. The goal of this project is to model the effectiveness of the government's response at a state level in terms of initial growth rates of the infection."
   ]
  },
  {
   "cell_type": "markdown",
   "metadata": {},
   "source": [
    "## Parameters\n",
    "\n",
    "The number of infected individuals $N$ in its early stages generally can be modeled by an exponential curve\n",
    "\n",
    "$$N=\\exp(r(t-t_0))$$\n",
    "\n",
    "where $r$ is the growth rate, $t$ is the time, and $t_0$ is the time until the first infection. The growth rate $r$ can then be determined by a linear regression on $\\ln(N) = r(t - t_0)$.\n",
    "\n",
    "This growth rate $r$ will be predicted using a linear regression-type network for the first 6 weeks starting March 1st (a day later the US would reach the first confirmed 100 cases).\n",
    "\n",
    "The parameters of interest include:\n",
    "1. The testing rate integrated weekly (so the number of tests administered from March 1 to a given week) normalized by the population (# tests adminstered/population, for 6 weeks).\n",
    "2. Time from March 1 to declare a \"state of emergency\"\n",
    "3. Time from March 1 to close schools and universities\n",
    "4. Time from March 1 to institute a stay-at-home/quarantine order at a state level.\n",
    "5. Govenor political affiliation (-1 = republican, 1 = democrat).\n",
    "6. Population density (control parameter).\n",
    "\n",
    "When parameters associated with time of response were not achieved within the time frame provided (eg. schools were not closed within the 6 weeks) a value of 50 is assigned.\n",
    "\n",
    "Each data point will represent an individual state. Only the 50 states and the District of Columbia will be considered, territories of the US such as American Samoa and Puerto Rico will not be used."
   ]
  },
  {
   "cell_type": "markdown",
   "metadata": {},
   "source": [
    "## Loading and preprocessing data"
   ]
  },
  {
   "cell_type": "code",
   "execution_count": 133,
   "metadata": {},
   "outputs": [],
   "source": [
    "import pandas as pd\n",
    "import numpy as np"
   ]
  },
  {
   "cell_type": "code",
   "execution_count": 134,
   "metadata": {},
   "outputs": [],
   "source": [
    "url = 'https://raw.githubusercontent.com/nyama8/EE-445-Final-Project/master/testingdata.csv'\n",
    "df = pd.read_csv(url, error_bad_lines=False)"
   ]
  },
  {
   "cell_type": "code",
   "execution_count": 135,
   "metadata": {},
   "outputs": [
    {
     "data": {
      "text/html": [
       "<div>\n",
       "<style scoped>\n",
       "    .dataframe tbody tr th:only-of-type {\n",
       "        vertical-align: middle;\n",
       "    }\n",
       "\n",
       "    .dataframe tbody tr th {\n",
       "        vertical-align: top;\n",
       "    }\n",
       "\n",
       "    .dataframe thead th {\n",
       "        text-align: right;\n",
       "    }\n",
       "</style>\n",
       "<table border=\"1\" class=\"dataframe\">\n",
       "  <thead>\n",
       "    <tr style=\"text-align: right;\">\n",
       "      <th></th>\n",
       "      <th>date</th>\n",
       "      <th>state</th>\n",
       "      <th>positive</th>\n",
       "      <th>negative</th>\n",
       "      <th>tests</th>\n",
       "      <th>time</th>\n",
       "    </tr>\n",
       "  </thead>\n",
       "  <tbody>\n",
       "    <tr>\n",
       "      <td>0</td>\n",
       "      <td>20200412</td>\n",
       "      <td>AK</td>\n",
       "      <td>272.0</td>\n",
       "      <td>7766.0</td>\n",
       "      <td>8038</td>\n",
       "      <td>43</td>\n",
       "    </tr>\n",
       "    <tr>\n",
       "      <td>1</td>\n",
       "      <td>20200412</td>\n",
       "      <td>AL</td>\n",
       "      <td>3525.0</td>\n",
       "      <td>18058.0</td>\n",
       "      <td>21583</td>\n",
       "      <td>43</td>\n",
       "    </tr>\n",
       "    <tr>\n",
       "      <td>2</td>\n",
       "      <td>20200412</td>\n",
       "      <td>AR</td>\n",
       "      <td>1280.0</td>\n",
       "      <td>18442.0</td>\n",
       "      <td>19722</td>\n",
       "      <td>43</td>\n",
       "    </tr>\n",
       "    <tr>\n",
       "      <td>3</td>\n",
       "      <td>20200412</td>\n",
       "      <td>AS</td>\n",
       "      <td>0.0</td>\n",
       "      <td>3.0</td>\n",
       "      <td>3</td>\n",
       "      <td>43</td>\n",
       "    </tr>\n",
       "    <tr>\n",
       "      <td>4</td>\n",
       "      <td>20200412</td>\n",
       "      <td>AZ</td>\n",
       "      <td>3539.0</td>\n",
       "      <td>38570.0</td>\n",
       "      <td>42109</td>\n",
       "      <td>43</td>\n",
       "    </tr>\n",
       "    <tr>\n",
       "      <td>...</td>\n",
       "      <td>...</td>\n",
       "      <td>...</td>\n",
       "      <td>...</td>\n",
       "      <td>...</td>\n",
       "      <td>...</td>\n",
       "      <td>...</td>\n",
       "    </tr>\n",
       "    <tr>\n",
       "      <td>2101</td>\n",
       "      <td>20200302</td>\n",
       "      <td>RI</td>\n",
       "      <td>1.0</td>\n",
       "      <td>NaN</td>\n",
       "      <td>1</td>\n",
       "      <td>2</td>\n",
       "    </tr>\n",
       "    <tr>\n",
       "      <td>2102</td>\n",
       "      <td>20200302</td>\n",
       "      <td>WA</td>\n",
       "      <td>34.0</td>\n",
       "      <td>229.0</td>\n",
       "      <td>263</td>\n",
       "      <td>2</td>\n",
       "    </tr>\n",
       "    <tr>\n",
       "      <td>2103</td>\n",
       "      <td>20200301</td>\n",
       "      <td>MI</td>\n",
       "      <td>9.0</td>\n",
       "      <td>NaN</td>\n",
       "      <td>9</td>\n",
       "      <td>1</td>\n",
       "    </tr>\n",
       "    <tr>\n",
       "      <td>2104</td>\n",
       "      <td>20200301</td>\n",
       "      <td>RI</td>\n",
       "      <td>1.0</td>\n",
       "      <td>NaN</td>\n",
       "      <td>1</td>\n",
       "      <td>1</td>\n",
       "    </tr>\n",
       "    <tr>\n",
       "      <td>2105</td>\n",
       "      <td>20200301</td>\n",
       "      <td>WA</td>\n",
       "      <td>30.0</td>\n",
       "      <td>81.0</td>\n",
       "      <td>111</td>\n",
       "      <td>1</td>\n",
       "    </tr>\n",
       "  </tbody>\n",
       "</table>\n",
       "<p>2106 rows × 6 columns</p>\n",
       "</div>"
      ],
      "text/plain": [
       "          date state  positive  negative  tests  time\n",
       "0     20200412    AK     272.0    7766.0   8038    43\n",
       "1     20200412    AL    3525.0   18058.0  21583    43\n",
       "2     20200412    AR    1280.0   18442.0  19722    43\n",
       "3     20200412    AS       0.0       3.0      3    43\n",
       "4     20200412    AZ    3539.0   38570.0  42109    43\n",
       "...        ...   ...       ...       ...    ...   ...\n",
       "2101  20200302    RI       1.0       NaN      1     2\n",
       "2102  20200302    WA      34.0     229.0    263     2\n",
       "2103  20200301    MI       9.0       NaN      9     1\n",
       "2104  20200301    RI       1.0       NaN      1     1\n",
       "2105  20200301    WA      30.0      81.0    111     1\n",
       "\n",
       "[2106 rows x 6 columns]"
      ]
     },
     "execution_count": 135,
     "metadata": {},
     "output_type": "execute_result"
    }
   ],
   "source": [
    "df"
   ]
  },
  {
   "cell_type": "code",
   "execution_count": 136,
   "metadata": {},
   "outputs": [
    {
     "data": {
      "text/plain": [
       "date          int64\n",
       "state        object\n",
       "positive    float64\n",
       "negative    float64\n",
       "tests         int64\n",
       "time          int64\n",
       "dtype: object"
      ]
     },
     "execution_count": 136,
     "metadata": {},
     "output_type": "execute_result"
    }
   ],
   "source": [
    "df.dtypes"
   ]
  },
  {
   "cell_type": "code",
   "execution_count": 138,
   "metadata": {},
   "outputs": [
    {
     "name": "stdout",
     "output_type": "stream",
     "text": [
      "{'AK': 0, 'AL': 1, 'AR': 2, 'AZ': 3, 'CA': 4, 'CO': 5, 'CT': 6, 'DE': 7, 'FL': 8, 'GA': 9, 'HI': 10, 'IA': 11, 'ID': 12, 'IL': 13, 'IN': 14, 'KS': 15, 'KY': 16, 'LA': 17, 'MA': 18, 'MD': 19, 'ME': 20, 'MI': 21, 'MN': 22, 'MO': 23, 'MS': 24, 'MT': 25, 'NC': 26, 'ND': 27, 'NE': 28, 'NH': 29, 'NJ': 30, 'NM': 31, 'NV': 32, 'NY': 33, 'OH': 34, 'OK': 35, 'OR': 36, 'PA': 37, 'RI': 38, 'SC': 39, 'SD': 40, 'TN': 41, 'TX': 42, 'UT': 43, 'VA': 44, 'VT': 45, 'WA': 46, 'WI': 47, 'WV': 48, 'WY': 49, 'DC': 50, 'AS': 51, 'MP': 52, 'GU': 53, 'PR': 54, 'VI': 55}\n"
     ]
    },
    {
     "data": {
      "text/html": [
       "<div>\n",
       "<style scoped>\n",
       "    .dataframe tbody tr th:only-of-type {\n",
       "        vertical-align: middle;\n",
       "    }\n",
       "\n",
       "    .dataframe tbody tr th {\n",
       "        vertical-align: top;\n",
       "    }\n",
       "\n",
       "    .dataframe thead th {\n",
       "        text-align: right;\n",
       "    }\n",
       "</style>\n",
       "<table border=\"1\" class=\"dataframe\">\n",
       "  <thead>\n",
       "    <tr style=\"text-align: right;\">\n",
       "      <th></th>\n",
       "      <th>date</th>\n",
       "      <th>state</th>\n",
       "      <th>positive</th>\n",
       "      <th>negative</th>\n",
       "      <th>tests</th>\n",
       "      <th>time</th>\n",
       "    </tr>\n",
       "  </thead>\n",
       "  <tbody>\n",
       "    <tr>\n",
       "      <td>count</td>\n",
       "      <td>2.106000e+03</td>\n",
       "      <td>2106.000000</td>\n",
       "      <td>2091.000000</td>\n",
       "      <td>1963.000000</td>\n",
       "      <td>2106.000000</td>\n",
       "      <td>2106.000000</td>\n",
       "    </tr>\n",
       "    <tr>\n",
       "      <td>mean</td>\n",
       "      <td>2.020035e+07</td>\n",
       "      <td>26.978158</td>\n",
       "      <td>2735.374462</td>\n",
       "      <td>13059.403464</td>\n",
       "      <td>14888.545584</td>\n",
       "      <td>24.536562</td>\n",
       "    </tr>\n",
       "    <tr>\n",
       "      <td>std</td>\n",
       "      <td>4.158387e+01</td>\n",
       "      <td>15.857036</td>\n",
       "      <td>11890.687767</td>\n",
       "      <td>26479.106277</td>\n",
       "      <td>35791.859537</td>\n",
       "      <td>11.099286</td>\n",
       "    </tr>\n",
       "    <tr>\n",
       "      <td>min</td>\n",
       "      <td>2.020030e+07</td>\n",
       "      <td>0.000000</td>\n",
       "      <td>0.000000</td>\n",
       "      <td>0.000000</td>\n",
       "      <td>0.000000</td>\n",
       "      <td>1.000000</td>\n",
       "    </tr>\n",
       "    <tr>\n",
       "      <td>25%</td>\n",
       "      <td>2.020032e+07</td>\n",
       "      <td>13.000000</td>\n",
       "      <td>17.000000</td>\n",
       "      <td>174.000000</td>\n",
       "      <td>144.000000</td>\n",
       "      <td>15.000000</td>\n",
       "    </tr>\n",
       "    <tr>\n",
       "      <td>50%</td>\n",
       "      <td>2.020032e+07</td>\n",
       "      <td>27.000000</td>\n",
       "      <td>194.000000</td>\n",
       "      <td>2989.000000</td>\n",
       "      <td>2433.000000</td>\n",
       "      <td>25.000000</td>\n",
       "    </tr>\n",
       "    <tr>\n",
       "      <td>75%</td>\n",
       "      <td>2.020040e+07</td>\n",
       "      <td>41.000000</td>\n",
       "      <td>1239.000000</td>\n",
       "      <td>14030.500000</td>\n",
       "      <td>13990.250000</td>\n",
       "      <td>34.000000</td>\n",
       "    </tr>\n",
       "    <tr>\n",
       "      <td>max</td>\n",
       "      <td>2.020041e+07</td>\n",
       "      <td>55.000000</td>\n",
       "      <td>188694.000000</td>\n",
       "      <td>272907.000000</td>\n",
       "      <td>461601.000000</td>\n",
       "      <td>43.000000</td>\n",
       "    </tr>\n",
       "  </tbody>\n",
       "</table>\n",
       "</div>"
      ],
      "text/plain": [
       "               date        state       positive       negative          tests  \\\n",
       "count  2.106000e+03  2106.000000    2091.000000    1963.000000    2106.000000   \n",
       "mean   2.020035e+07    26.978158    2735.374462   13059.403464   14888.545584   \n",
       "std    4.158387e+01    15.857036   11890.687767   26479.106277   35791.859537   \n",
       "min    2.020030e+07     0.000000       0.000000       0.000000       0.000000   \n",
       "25%    2.020032e+07    13.000000      17.000000     174.000000     144.000000   \n",
       "50%    2.020032e+07    27.000000     194.000000    2989.000000    2433.000000   \n",
       "75%    2.020040e+07    41.000000    1239.000000   14030.500000   13990.250000   \n",
       "max    2.020041e+07    55.000000  188694.000000  272907.000000  461601.000000   \n",
       "\n",
       "              time  \n",
       "count  2106.000000  \n",
       "mean     24.536562  \n",
       "std      11.099286  \n",
       "min       1.000000  \n",
       "25%      15.000000  \n",
       "50%      25.000000  \n",
       "75%      34.000000  \n",
       "max      43.000000  "
      ]
     },
     "execution_count": 138,
     "metadata": {},
     "output_type": "execute_result"
    }
   ],
   "source": [
    "# Creates dictionary for state abbreviations and applies it to the dataframe\n",
    "abbrv = []\n",
    "with open('state_abbrev.txt', 'r') as reader:\n",
    "    abbrv = reader.read().splitlines()\n",
    "\n",
    "st_enum = dict([])\n",
    "for i in range(len(abbrv)):\n",
    "    st_enum[abbrv[i]] = i\n",
    "\n",
    "print(st_enum)\n",
    "\n",
    "df2 = df.replace({'state':st_enum})\n",
    "num_df = df2.astype({'state' : 'int32'})\n",
    "num_df.describe()"
   ]
  },
  {
   "cell_type": "code",
   "execution_count": 139,
   "metadata": {},
   "outputs": [
    {
     "data": {
      "text/plain": [
       "date          int64\n",
       "state         int32\n",
       "positive    float64\n",
       "negative    float64\n",
       "tests         int64\n",
       "time          int64\n",
       "dtype: object"
      ]
     },
     "execution_count": 139,
     "metadata": {},
     "output_type": "execute_result"
    }
   ],
   "source": [
    "#num_df = df.astype({'positive' : 'Int32'})\n",
    "num_df.dtypes"
   ]
  },
  {
   "cell_type": "code",
   "execution_count": 140,
   "metadata": {},
   "outputs": [],
   "source": [
    "num_df = num_df[num_df['state'] <= 50]\n"
   ]
  },
  {
   "cell_type": "code",
   "execution_count": 141,
   "metadata": {},
   "outputs": [
    {
     "data": {
      "text/html": [
       "<div>\n",
       "<style scoped>\n",
       "    .dataframe tbody tr th:only-of-type {\n",
       "        vertical-align: middle;\n",
       "    }\n",
       "\n",
       "    .dataframe tbody tr th {\n",
       "        vertical-align: top;\n",
       "    }\n",
       "\n",
       "    .dataframe thead th {\n",
       "        text-align: right;\n",
       "    }\n",
       "</style>\n",
       "<table border=\"1\" class=\"dataframe\">\n",
       "  <thead>\n",
       "    <tr style=\"text-align: right;\">\n",
       "      <th></th>\n",
       "      <th>date</th>\n",
       "      <th>state</th>\n",
       "      <th>positive</th>\n",
       "      <th>negative</th>\n",
       "      <th>tests</th>\n",
       "      <th>time</th>\n",
       "    </tr>\n",
       "  </thead>\n",
       "  <tbody>\n",
       "    <tr>\n",
       "      <td>0</td>\n",
       "      <td>20200412</td>\n",
       "      <td>0</td>\n",
       "      <td>272.0</td>\n",
       "      <td>7766.0</td>\n",
       "      <td>8038</td>\n",
       "      <td>43</td>\n",
       "    </tr>\n",
       "    <tr>\n",
       "      <td>1</td>\n",
       "      <td>20200412</td>\n",
       "      <td>1</td>\n",
       "      <td>3525.0</td>\n",
       "      <td>18058.0</td>\n",
       "      <td>21583</td>\n",
       "      <td>43</td>\n",
       "    </tr>\n",
       "    <tr>\n",
       "      <td>2</td>\n",
       "      <td>20200412</td>\n",
       "      <td>2</td>\n",
       "      <td>1280.0</td>\n",
       "      <td>18442.0</td>\n",
       "      <td>19722</td>\n",
       "      <td>43</td>\n",
       "    </tr>\n",
       "    <tr>\n",
       "      <td>4</td>\n",
       "      <td>20200412</td>\n",
       "      <td>3</td>\n",
       "      <td>3539.0</td>\n",
       "      <td>38570.0</td>\n",
       "      <td>42109</td>\n",
       "      <td>43</td>\n",
       "    </tr>\n",
       "    <tr>\n",
       "      <td>5</td>\n",
       "      <td>20200412</td>\n",
       "      <td>4</td>\n",
       "      <td>21794.0</td>\n",
       "      <td>168534.0</td>\n",
       "      <td>190328</td>\n",
       "      <td>43</td>\n",
       "    </tr>\n",
       "    <tr>\n",
       "      <td>...</td>\n",
       "      <td>...</td>\n",
       "      <td>...</td>\n",
       "      <td>...</td>\n",
       "      <td>...</td>\n",
       "      <td>...</td>\n",
       "      <td>...</td>\n",
       "    </tr>\n",
       "    <tr>\n",
       "      <td>2101</td>\n",
       "      <td>20200302</td>\n",
       "      <td>38</td>\n",
       "      <td>1.0</td>\n",
       "      <td>NaN</td>\n",
       "      <td>1</td>\n",
       "      <td>2</td>\n",
       "    </tr>\n",
       "    <tr>\n",
       "      <td>2102</td>\n",
       "      <td>20200302</td>\n",
       "      <td>46</td>\n",
       "      <td>34.0</td>\n",
       "      <td>229.0</td>\n",
       "      <td>263</td>\n",
       "      <td>2</td>\n",
       "    </tr>\n",
       "    <tr>\n",
       "      <td>2103</td>\n",
       "      <td>20200301</td>\n",
       "      <td>21</td>\n",
       "      <td>9.0</td>\n",
       "      <td>NaN</td>\n",
       "      <td>9</td>\n",
       "      <td>1</td>\n",
       "    </tr>\n",
       "    <tr>\n",
       "      <td>2104</td>\n",
       "      <td>20200301</td>\n",
       "      <td>38</td>\n",
       "      <td>1.0</td>\n",
       "      <td>NaN</td>\n",
       "      <td>1</td>\n",
       "      <td>1</td>\n",
       "    </tr>\n",
       "    <tr>\n",
       "      <td>2105</td>\n",
       "      <td>20200301</td>\n",
       "      <td>46</td>\n",
       "      <td>30.0</td>\n",
       "      <td>81.0</td>\n",
       "      <td>111</td>\n",
       "      <td>1</td>\n",
       "    </tr>\n",
       "  </tbody>\n",
       "</table>\n",
       "<p>1966 rows × 6 columns</p>\n",
       "</div>"
      ],
      "text/plain": [
       "          date  state  positive  negative   tests  time\n",
       "0     20200412      0     272.0    7766.0    8038    43\n",
       "1     20200412      1    3525.0   18058.0   21583    43\n",
       "2     20200412      2    1280.0   18442.0   19722    43\n",
       "4     20200412      3    3539.0   38570.0   42109    43\n",
       "5     20200412      4   21794.0  168534.0  190328    43\n",
       "...        ...    ...       ...       ...     ...   ...\n",
       "2101  20200302     38       1.0       NaN       1     2\n",
       "2102  20200302     46      34.0     229.0     263     2\n",
       "2103  20200301     21       9.0       NaN       9     1\n",
       "2104  20200301     38       1.0       NaN       1     1\n",
       "2105  20200301     46      30.0      81.0     111     1\n",
       "\n",
       "[1966 rows x 6 columns]"
      ]
     },
     "execution_count": 141,
     "metadata": {},
     "output_type": "execute_result"
    }
   ],
   "source": [
    "num_df"
   ]
  },
  {
   "cell_type": "code",
   "execution_count": 142,
   "metadata": {},
   "outputs": [],
   "source": [
    "# Get final data matrix and convert to numpy array\n",
    "final_df = num_df.drop(columns=['date', 'negative'])\n",
    "testing = final_df.to_numpy()"
   ]
  },
  {
   "cell_type": "code",
   "execution_count": 145,
   "metadata": {},
   "outputs": [
    {
     "data": {
      "text/plain": [
       "array([[    0,   272,  8038,    43],\n",
       "       [    1,  3525, 21583,    43],\n",
       "       [    2,  1280, 19722,    43],\n",
       "       ...,\n",
       "       [   21,     9,     9,     1],\n",
       "       [   38,     1,     1,     1],\n",
       "       [   46,    30,   111,     1]])"
      ]
     },
     "execution_count": 145,
     "metadata": {},
     "output_type": "execute_result"
    }
   ],
   "source": [
    "testing = testing.astype(int)\n",
    "testing"
   ]
  },
  {
   "cell_type": "code",
   "execution_count": 148,
   "metadata": {},
   "outputs": [
    {
     "name": "stdout",
     "output_type": "stream",
     "text": [
      "[[   0.    0.    0. ...  235.  246.  257.]\n",
      " [   0.    0.    0. ... 2769. 2968. 3191.]\n",
      " [   0.    0.    0. ... 1119. 1171. 1226.]\n",
      " ...\n",
      " [   0.    0.    0. ...  523.  554.  577.]\n",
      " [   0.    0.    0. ...  230.  253.  261.]\n",
      " [   0.    0.    0. ... 1523. 1660. 1778.]]\n"
     ]
    }
   ],
   "source": [
    "# Re-express data in 51x43 matrix, each row is a particular state, each column a particular day after March 1\n",
    "cases_by_state = np.zeros([51,43])\n",
    "for row in testing:\n",
    "    #print(row)\n",
    "    try:\n",
    "        cases_by_state[row[0],row[3]] = row[1]\n",
    "    except:\n",
    "        pass\n",
    "    \n",
    "    \n",
    "print(cases_by_state)"
   ]
  },
  {
   "cell_type": "code",
   "execution_count": 149,
   "metadata": {},
   "outputs": [],
   "source": [
    "import matplotlib.pyplot as plt"
   ]
  },
  {
   "cell_type": "code",
   "execution_count": 151,
   "metadata": {},
   "outputs": [
    {
     "data": {
      "image/png": "[encoded data removed]",
      "text/plain": [
       "<Figure size 432x288 with 1 Axes>"
      ]
     },
     "metadata": {
      "needs_background": "light"
     },
     "output_type": "display_data"
    }
   ],
   "source": [
    "fig, ax = plt.subplots()\n",
    "ax.plot(range(43), cases_by_state[10], range(43), cases_by_state[46])\n",
    "plt.show()"
   ]
  },
  {
   "cell_type": "code",
   "execution_count": null,
   "metadata": {},
   "outputs": [],
   "source": []
  }
 ],
 "metadata": {
  "kernelspec": {
   "display_name": "Python 3",
   "language": "python",
   "name": "python3"
  },
  "language_info": {
   "codemirror_mode": {
    "name": "ipython",
    "version": 3
   },
   "file_extension": ".py",
   "mimetype": "text/x-python",
   "name": "python",
   "nbconvert_exporter": "python",
   "pygments_lexer": "ipython3",
   "version": "3.7.4"
  }
 },
 "nbformat": 4,
 "nbformat_minor": 2
}
